{
 "cells": [
  {
   "cell_type": "code",
   "execution_count": null,
   "id": "326d6612-edb0-435f-88cd-aa89f058735e",
   "metadata": {},
   "outputs": [],
   "source": [
    "import pandas as pd\n",
    "import seaborn as sns\n",
    "import matplotlib.pyplot as plt\n",
    "\n",
    "from scripts.utils.plot_results import gather_results, scatterplot_models, lineplot_metrics, lineplot_incontext_examples, boxplot_fct, pct_graph_tokens, nr_tokens"
   ]
  },
  {
   "cell_type": "code",
   "execution_count": null,
   "id": "c8a3e660-71ed-4d54-9b8f-9dc8a7588614",
   "metadata": {},
   "outputs": [],
   "source": [
    "results, results_pivot = gather_results(\n",
    "    N=[0, 2, 4, 8, 16, 32], \n",
    "    batch_size=24, \n",
    "    seed=41, \n",
    "    debug=False\n",
    ")\n",
    "results"
   ]
  },
  {
   "cell_type": "code",
   "execution_count": null,
   "id": "b2597007-e923-4bae-82aa-3a6e51094bf6",
   "metadata": {},
   "outputs": [],
   "source": [
    "scatterplot_models(\n",
    "    results_pivot=results_pivot, \n",
    "    N=[8]\n",
    ")"
   ]
  },
  {
   "cell_type": "code",
   "execution_count": null,
   "id": "4bfdc580-994b-496e-8826-400f8e2b3ec3",
   "metadata": {},
   "outputs": [],
   "source": [
    "lineplot_metrics(\n",
    "    results_pivot=results_pivot, \n",
    "    N=[8]\n",
    ")"
   ]
  },
  {
   "cell_type": "code",
   "execution_count": null,
   "id": "7f473004-5a73-488c-82ee-c7e8c6a17823",
   "metadata": {},
   "outputs": [],
   "source": [
    "lineplot_incontext_examples(\n",
    "    results_pivot=results_pivot, \n",
    "    model_id='Open-Orca_Mistral-7B-OpenOrca'\n",
    ")"
   ]
  },
  {
   "cell_type": "code",
   "execution_count": null,
   "id": "0a218baa-5d84-441b-ad77-16c789c150df",
   "metadata": {},
   "outputs": [],
   "source": [
    "boxplot_fct(\n",
    "    N=[0,2, 4, 8, 16, 32], \n",
    "    dataset_id='web_nlg', #bio_event\n",
    "    model_id='Open-Orca_Mistral-7B-OpenOrca', \n",
    "    fct=pct_graph_tokens, #nr_tokens\n",
    "    post_processed=True, \n",
    "    batch_size=24, \n",
    "    seed=41, \n",
    "    debug=False\n",
    ")"
   ]
  }
 ],
 "metadata": {
  "kernelspec": {
   "display_name": "Python [conda-txt2graph_llms]",
   "language": "python",
   "name": "conda-env-conda-txt2graph_llms-py"
  },
  "language_info": {
   "codemirror_mode": {
    "name": "ipython",
    "version": 3
   },
   "file_extension": ".py",
   "mimetype": "text/x-python",
   "name": "python",
   "nbconvert_exporter": "python",
   "pygments_lexer": "ipython3",
   "version": "3.11.0"
  }
 },
 "nbformat": 4,
 "nbformat_minor": 5
}
